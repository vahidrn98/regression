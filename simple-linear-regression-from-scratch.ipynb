{
 "cells": [
  {
   "cell_type": "code",
   "execution_count": 8,
   "metadata": {},
   "outputs": [],
   "source": [
    "from statistics import mean\n",
    "import numpy as np\n",
    "import matplotlib.pyplot as plt\n",
    "import random"
   ]
  },
  {
   "cell_type": "code",
   "execution_count": null,
   "metadata": {},
   "outputs": [],
   "source": []
  },
  {
   "cell_type": "code",
   "execution_count": 30,
   "metadata": {},
   "outputs": [],
   "source": [
    "def generate_random_dataset(hm,variance,step=2,correlation=False): # to test if the model is the best one\n",
    "    val = 1 #starting value\n",
    "    ys=[]\n",
    "    xs=[]\n",
    "    for i in range(hm):\n",
    "        y= val + random.randrange(-variance,variance)\n",
    "        ys.append(y)\n",
    "        xs.append(i)\n",
    "        if correlation and correlation == 'pos':\n",
    "            val +=step\n",
    "        elif correlation and correlation == 'neg':\n",
    "            val -=step\n",
    "    return np.array(xs,dtype=np.float64), np.array(ys,dtype=np.float64)"
   ]
  },
  {
   "cell_type": "code",
   "execution_count": 31,
   "metadata": {},
   "outputs": [],
   "source": [
    "def best_fit_slope_and_intercept(xs,ys):\n",
    "    m = (mean(xs)*mean(ys)-mean(xs*ys))/(mean(xs)**2 - mean(xs**2))\n",
    "    b = mean(ys)-m*mean(xs)\n",
    "    return b,m\n",
    "\n"
   ]
  },
  {
   "cell_type": "code",
   "execution_count": 32,
   "metadata": {},
   "outputs": [],
   "source": [
    "def squared_error(ys,line):\n",
    "    s = sum((ys-line)**2)\n",
    "    return s"
   ]
  },
  {
   "cell_type": "code",
   "execution_count": 33,
   "metadata": {},
   "outputs": [],
   "source": [
    "def r_squared_error(ys,line):\n",
    "    y_mean_line=[]\n",
    "    for y in ys:\n",
    "        y_mean_line.append(mean(ys))\n",
    "    squared_err_reg= squared_error(ys,line)\n",
    "    squared_err_mean= squared_error(ys,y_mean_line)\n",
    "    r = 1 - squared_err_reg/squared_err_mean\n",
    "    return r"
   ]
  },
  {
   "cell_type": "code",
   "execution_count": 55,
   "metadata": {},
   "outputs": [
    {
     "data": {
      "image/png": "[encoded data removed]",
      "text/plain": [
       "<Figure size 432x288 with 1 Axes>"
      ]
     },
     "metadata": {
      "needs_background": "light"
     },
     "output_type": "display_data"
    }
   ],
   "source": [
    "#xs = np.array([1,2,3,4,5,6],dtype=np.float64)\n",
    "#ys = np.array([5,4,6,5,6,7],dtype=np.float64)\n",
    "xs,ys = generate_random_dataset(40,20,2,'pos')\n",
    "plt.scatter(xs,ys)\n",
    "plt.show()\n"
   ]
  },
  {
   "cell_type": "code",
   "execution_count": 56,
   "metadata": {},
   "outputs": [
    {
     "name": "stdout",
     "output_type": "stream",
     "text": [
      "1.7789868667917446\n",
      "4.559756097560978\n"
     ]
    }
   ],
   "source": [
    "b, m= best_fit_slope_and_intercept(xs,ys)\n",
    "print(m)\n",
    "print(b)"
   ]
  },
  {
   "cell_type": "code",
   "execution_count": 57,
   "metadata": {},
   "outputs": [
    {
     "name": "stdout",
     "output_type": "stream",
     "text": [
      "[4.559756097560978, 6.338742964352723, 8.117729831144468, 9.896716697936212, 11.675703564727957, 13.454690431519701, 15.233677298311445, 17.01266416510319, 18.791651031894936, 20.57063789868668, 22.349624765478424, 24.128611632270168, 25.907598499061912, 27.686585365853656, 29.465572232645403, 31.244559099437147, 33.023545966228895, 34.802532833020635, 36.58151969981238, 38.36050656660412, 40.13949343339587, 41.91848030018761, 43.69746716697936, 45.476454033771105, 47.255440900562846, 49.03442776735459, 50.81341463414633, 52.59240150093808, 54.37138836772983, 56.15037523452157, 57.929362101313316, 59.70834896810506, 61.487335834896804, 63.26632270168855, 65.04530956848029, 66.82429643527203, 68.60328330206379, 70.38227016885553, 72.16125703564727, 73.94024390243902]\n"
     ]
    },
    {
     "data": {
      "image/png": "[encoded data removed]",
      "text/plain": [
       "<Figure size 432x288 with 1 Axes>"
      ]
     },
     "metadata": {
      "needs_background": "light"
     },
     "output_type": "display_data"
    }
   ],
   "source": [
    "line=[]\n",
    "for x in xs :\n",
    "    line.append(m*x+b)\n",
    "print(line)\n",
    "plt.plot(xs,line)\n",
    "plt.scatter(xs,ys)\n",
    "plt.show()"
   ]
  },
  {
   "cell_type": "code",
   "execution_count": 58,
   "metadata": {},
   "outputs": [
    {
     "name": "stdout",
     "output_type": "stream",
     "text": [
      "18.791651031894936\n"
     ]
    }
   ],
   "source": [
    "predict_x=8\n",
    "predict_y = m*predict_x+b\n",
    "print(predict_y)"
   ]
  },
  {
   "cell_type": "code",
   "execution_count": 59,
   "metadata": {},
   "outputs": [
    {
     "name": "stdout",
     "output_type": "stream",
     "text": [
      "0.8071175612296622\n"
     ]
    }
   ],
   "source": [
    "r = r_squared_error(ys,line)\n",
    "print(r)"
   ]
  },
  {
   "cell_type": "code",
   "execution_count": 60,
   "metadata": {},
   "outputs": [
    {
     "data": {
      "image/png": "[encoded data removed]",
      "text/plain": [
       "<Figure size 432x288 with 1 Axes>"
      ]
     },
     "metadata": {
      "needs_background": "light"
     },
     "output_type": "display_data"
    }
   ],
   "source": [
    "plt.plot(xs,line)\n",
    "plt.scatter(xs,ys)\n",
    "plt.scatter(predict_x,predict_y,c='g')\n",
    "plt.show()"
   ]
  },
  {
   "cell_type": "code",
   "execution_count": null,
   "metadata": {},
   "outputs": [],
   "source": []
  }
 ],
 "metadata": {
  "kernelspec": {
   "display_name": "Python 3",
   "language": "python",
   "name": "python3"
  },
  "language_info": {
   "codemirror_mode": {
    "name": "ipython",
    "version": 3
   },
   "file_extension": ".py",
   "mimetype": "text/x-python",
   "name": "python",
   "nbconvert_exporter": "python",
   "pygments_lexer": "ipython3",
   "version": "3.7.3"
  }
 },
 "nbformat": 4,
 "nbformat_minor": 2
}
